{
  "nbformat": 4,
  "nbformat_minor": 0,
  "metadata": {
    "colab": {
      "name": "Facebook-fundamental-analysis.ipynb",
      "provenance": [],
      "collapsed_sections": [
        "aklWdMW2YPaP",
        "Ts7ZqefTZ_t2",
        "h-ZMHoX-aUyb",
        "NfCSMdVhbAom",
        "ckTgyvfse_Kj",
        "XUOnMh3Rjo2U",
        "rqn6xa43nsVq",
        "-FdWPBhVdE8Y",
        "_e2PqtAH1pIy",
        "V3jdP0s97g_i",
        "pfEs85N9SPkO",
        "vwfx4QH9cvUL"
      ],
      "include_colab_link": true
    },
    "kernelspec": {
      "name": "python3",
      "display_name": "Python 3"
    }
  },
  "cells": [
    {
      "cell_type": "markdown",
      "metadata": {
        "id": "view-in-github",
        "colab_type": "text"
      },
      "source": [
        "<a href=\"https://colab.research.google.com/github/jose-myvalue/investment-notebooks/blob/main/Facebook_fundamental_analysis.ipynb\" target=\"_parent\"><img src=\"https://colab.research.google.com/assets/colab-badge.svg\" alt=\"Open In Colab\"/></a>"
      ]
    },
    {
      "cell_type": "markdown",
      "metadata": {
        "id": "aklWdMW2YPaP"
      },
      "source": [
        "# General imports"
      ]
    },
    {
      "cell_type": "code",
      "metadata": {
        "id": "vys8gSDnVSG-"
      },
      "source": [
        "import sys, os\n",
        "import json\n",
        "import urllib\n",
        "from datetime import datetime\n",
        "from time import time\n",
        "from urllib.request import urlopen\n",
        "from statistics import median, mean\n",
        "import pandas as pd\n",
        "import numpy as np\n",
        "import matplotlib.pyplot as plt\n",
        "from IPython.display import display, HTML\n",
        "\n",
        "import requests"
      ],
      "execution_count": null,
      "outputs": []
    },
    {
      "cell_type": "markdown",
      "metadata": {
        "id": "Ts7ZqefTZ_t2"
      },
      "source": [
        "# Financials class"
      ]
    },
    {
      "cell_type": "code",
      "metadata": {
        "id": "e3ynITYVWjhl"
      },
      "source": [
        "from datetime import datetime\n",
        "from typing import Dict\n",
        "from functools import reduce\n",
        "\n",
        "import pandas as pd\n",
        "import numpy as np\n",
        "\n",
        "pd.options.display.float_format = \"{:.2f}\".format\n",
        "pd.options.mode.chained_assignment = None\n",
        "\n",
        "np.set_printoptions(suppress=True, formatter={\"float_kind\": \"{:f}\".format}, precision=2)\n",
        "\n",
        "\n",
        "class Financials:\n",
        "    def __init__(self, income_statement_json, balance_sheet_json, cash_flow_json, ticker):\n",
        "        def __get_year(date):\n",
        "            return pd.Timestamp(date).year\n",
        "\n",
        "        self.ticker = ticker\n",
        "\n",
        "        df_income_statement = pd.DataFrame(income_statement_json)\n",
        "        df_income_statement_clean = df_income_statement[\n",
        "            [\n",
        "                \"date\",\n",
        "                \"revenue\",\n",
        "                \"grossProfit\",\n",
        "                \"netIncome\",\n",
        "                \"incomeTaxExpense\",\n",
        "                \"interestExpense\",\n",
        "                \"weightedAverageShsOut\",\n",
        "                \"weightedAverageShsOutDil\",\n",
        "                \"eps\",\n",
        "                \"epsdiluted\",\n",
        "            ]\n",
        "        ]\n",
        "        df_income_statement_clean.set_index(\"date\", inplace=True)\n",
        "\n",
        "        df_balance_sheet = pd.DataFrame(balance_sheet_json)\n",
        "        df_balance_sheet_clean = df_balance_sheet[\n",
        "            [\n",
        "                \"date\",\n",
        "                \"shortTermDebt\",\n",
        "                \"longTermDebt\",\n",
        "                \"totalDebt\",\n",
        "                \"cashAndCashEquivalents\",\n",
        "                \"shortTermInvestments\",\n",
        "                \"totalStockholdersEquity\",\n",
        "                \"totalAssets\",\n",
        "                \"totalLiabilities\",\n",
        "            ]\n",
        "        ]\n",
        "        df_balance_sheet_clean.set_index(\"date\", inplace=True)\n",
        "\n",
        "        self.df_accounting = df_income_statement_clean.merge(\n",
        "            df_balance_sheet_clean, left_index=True, right_index=True\n",
        "        )\n",
        "\n",
        "        df_cash_flow_statement = pd.DataFrame(cash_flow_json)\n",
        "        df_cash_flow_statement_clean = df_cash_flow_statement[\n",
        "            [\"date\", \"depreciationAndAmortization\", \"freeCashFlow\"]\n",
        "        ]\n",
        "        df_cash_flow_statement_clean.set_index(\"date\", inplace=True)\n",
        "\n",
        "        self.df_accounting = self.df_accounting.merge(\n",
        "            df_cash_flow_statement_clean, left_index=True, right_index=True\n",
        "        )\n",
        "\n",
        "        self.df_accounting.reset_index(inplace=True)\n",
        "\n",
        "        self.df_accounting[\"year\"] = self.df_accounting[\"date\"].apply(__get_year)\n",
        "\n",
        "    def get_last_statement_date(self):\n",
        "        statement_date = self.df_accounting[\"date\"].max()\n",
        "        return statement_date\n",
        "\n",
        "    def get_first_statment_date(self):\n",
        "        statement_date = self.get_last_statement_date()\n",
        "        return self.df_accounting.loc[self.df_accounting[\"date\"] < statement_date][\"date\"].iloc[0]\n",
        "\n",
        "    def get_last_revenue(self):\n",
        "        statement_date = self.get_last_statement_date()\n",
        "        return round(\n",
        "            self.df_accounting.loc[self.df_accounting[\"date\"] == statement_date][\"revenue\"].iloc[0],\n",
        "            2,\n",
        "        )\n"
      ],
      "execution_count": null,
      "outputs": []
    },
    {
      "cell_type": "markdown",
      "metadata": {
        "id": "h-ZMHoX-aUyb"
      },
      "source": [
        "# Fundamentals class"
      ]
    },
    {
      "cell_type": "code",
      "metadata": {
        "id": "pykr-5aNYn6w"
      },
      "source": [
        "from datetime import datetime\n",
        "from typing import Dict\n",
        "from functools import reduce\n",
        "\n",
        "from statistics import mean\n",
        "\n",
        "import sys, os\n",
        "\n",
        "import pandas as pd\n",
        "import numpy as np\n",
        "\n",
        "pd.options.display.float_format = \"{:.2f}\".format\n",
        "pd.options.mode.chained_assignment = None\n",
        "\n",
        "np.set_printoptions(suppress=True, formatter={\"float_kind\": \"{:f}\".format}, precision=2)\n",
        "\n",
        "\n",
        "class Fundamentals:\n",
        "    def __init__(self, df_financials_with_stock_price, ticker):\n",
        "        try:\n",
        "            self.df_fundamentals = df_financials_with_stock_price\n",
        "            self.ticker = ticker\n",
        "\n",
        "            self.__get_ebitda_historical()\n",
        "            self.__get_ebit_historical()\n",
        "            self.__get_marketcap_historical()\n",
        "            self.__get_enterprise_value_historical()\n",
        "            self.__get_per_historical()\n",
        "            self.__get_ev_ebitda_historical()\n",
        "            self.__get_ev_ebit_historical()\n",
        "            self.__get_ev_fcf_historical()\n",
        "            self.__get_margin_gross_historical()\n",
        "            self.__get_margin_ebit_historical()\n",
        "            self.__get_margin_fcf_historical()\n",
        "            self.__get_margin_net_historical()\n",
        "            self.__get_revenue_per_share_historical()\n",
        "            self.__get_ebitda_per_share_historical()\n",
        "            self.__get_ebit_per_share_historical()\n",
        "            self.__get_fcf_per_share_historical()\n",
        "            self.__get_pct_change()\n",
        "            # self.__get_linear_regression_forecast()\n",
        "            self.statement_date = self.df_fundamentals[\"date\"].max()\n",
        "            self.first_statement_date = self.df_fundamentals.loc[\n",
        "                self.df_fundamentals[\"date\"] < self.statement_date\n",
        "            ][\"date\"].iloc[0]\n",
        "\n",
        "        except (Exception) as e:\n",
        "            exc_type, exc_obj, exc_tb = sys.exc_info()\n",
        "            fname = os.path.split(exc_tb.tb_frame.f_code.co_filename)[1]\n",
        "            print(exc_type, fname, exc_tb.tb_lineno)\n",
        "\n",
        "    def __get_ebitda_historical(self):\n",
        "        self.df_fundamentals[\"EBITDA\"] = (\n",
        "            self.df_fundamentals[\"netIncome\"]\n",
        "            + self.df_fundamentals[\"interestExpense\"]\n",
        "            + self.df_fundamentals[\"incomeTaxExpense\"]\n",
        "            + self.df_fundamentals[\"depreciationAndAmortization\"]\n",
        "        )\n",
        "\n",
        "    def __get_ebit_historical(self):\n",
        "        self.df_fundamentals[\"EBIT\"] = (\n",
        "            self.df_fundamentals[\"netIncome\"]\n",
        "            + self.df_fundamentals[\"interestExpense\"]\n",
        "            + self.df_fundamentals[\"incomeTaxExpense\"]\n",
        "        )\n",
        "\n",
        "    def __get_marketcap_historical(self):\n",
        "        self.df_fundamentals[\"marketcap\"] = (\n",
        "            self.df_fundamentals[\"weightedAverageShsOut\"] * self.df_fundamentals[\"price\"]\n",
        "        )\n",
        "\n",
        "    def __get_enterprise_value_historical(self):\n",
        "        self.df_fundamentals[\"enterprise_value\"] = (\n",
        "            self.df_fundamentals[\"marketcap\"]\n",
        "            + self.df_fundamentals[\"totalDebt\"]\n",
        "            - (\n",
        "                self.df_fundamentals[\"cashAndCashEquivalents\"]\n",
        "                + self.df_fundamentals[\"shortTermInvestments\"]\n",
        "            )\n",
        "        )\n",
        "\n",
        "    def __get_per_historical(self):\n",
        "        self.df_fundamentals[\"per\"] = (\n",
        "            self.df_fundamentals[\"price\"] / self.df_fundamentals[\"epsdiluted\"]\n",
        "        )\n",
        "\n",
        "    def __get_ev_ebitda_historical(self):\n",
        "        self.df_fundamentals[\"EV_EBITDA\"] = (\n",
        "            self.df_fundamentals[\"enterprise_value\"] / self.df_fundamentals[\"EBITDA\"]\n",
        "        )\n",
        "\n",
        "    def __get_ev_ebit_historical(self):\n",
        "        self.df_fundamentals[\"EV_EBIT\"] = (\n",
        "            self.df_fundamentals[\"enterprise_value\"] / self.df_fundamentals[\"EBIT\"]\n",
        "        )\n",
        "\n",
        "    def __get_ev_fcf_historical(self):\n",
        "        self.df_fundamentals[\"EV_FCF\"] = (\n",
        "            self.df_fundamentals[\"enterprise_value\"] / self.df_fundamentals[\"freeCashFlow\"]\n",
        "        )\n",
        "\n",
        "    def __get_margin_gross_historical(self):\n",
        "        self.df_fundamentals[\"margin_gross\"] = (\n",
        "            round(self.df_fundamentals[\"grossProfit\"] / self.df_fundamentals[\"revenue\"], 2) * 100\n",
        "        )\n",
        "\n",
        "    def __get_margin_ebit_historical(self):\n",
        "        self.df_fundamentals[\"margin_ebit\"] = (\n",
        "            round(self.df_fundamentals[\"EBIT\"] / self.df_fundamentals[\"revenue\"], 2) * 100\n",
        "        )\n",
        "\n",
        "    def __get_margin_net_historical(self):\n",
        "        self.df_fundamentals[\"margin_net\"] = (\n",
        "            round(self.df_fundamentals[\"netIncome\"] / self.df_fundamentals[\"revenue\"], 2) * 100\n",
        "        )\n",
        "\n",
        "    def __get_margin_fcf_historical(self):\n",
        "        self.df_fundamentals[\"margin_fcf\"] = (\n",
        "            round(self.df_fundamentals[\"freeCashFlow\"] / self.df_fundamentals[\"revenue\"], 2) * 100\n",
        "        )\n",
        "\n",
        "    def __get_revenue_per_share_historical(self):\n",
        "        self.df_fundamentals[\"revenue_per_share\"] = round(\n",
        "            self.df_fundamentals[\"revenue\"] / self.df_fundamentals[\"weightedAverageShsOutDil\"], 2\n",
        "        )\n",
        "\n",
        "    def __get_ebitda_per_share_historical(self):\n",
        "        self.df_fundamentals[\"ebitda_per_share\"] = (\n",
        "            self.df_fundamentals[\"EBITDA\"] / self.df_fundamentals[\"weightedAverageShsOutDil\"]\n",
        "        )\n",
        "\n",
        "    def __get_ebit_per_share_historical(self):\n",
        "        self.df_fundamentals[\"ebit_per_share\"] = (\n",
        "            self.df_fundamentals[\"EBIT\"] / self.df_fundamentals[\"weightedAverageShsOutDil\"]\n",
        "        )\n",
        "\n",
        "    def __get_fcf_per_share_historical(self):\n",
        "        self.df_fundamentals[\"fcf_per_share\"] = (\n",
        "            self.df_fundamentals[\"freeCashFlow\"] / self.df_fundamentals[\"weightedAverageShsOutDil\"]\n",
        "        )\n",
        "\n",
        "    def __get_pct_change(self):\n",
        "        self.df_fundamentals = self.df_fundamentals.iloc[::-1]\n",
        "        self.df_fundamentals[\"revenue_per_share_growth\"] = self.df_fundamentals[\n",
        "            \"revenue_per_share\"\n",
        "        ].pct_change()\n",
        "        self.df_fundamentals[\"ebitda_per_share_growth\"] = self.df_fundamentals[\n",
        "            \"ebitda_per_share\"\n",
        "        ].pct_change()\n",
        "        self.df_fundamentals[\"ebit_per_share_growth\"] = self.df_fundamentals[\n",
        "            \"ebit_per_share\"\n",
        "        ].pct_change()\n",
        "        self.df_fundamentals[\"fcf_per_share_growth\"] = self.df_fundamentals[\n",
        "            \"fcf_per_share\"\n",
        "        ].pct_change()\n",
        "        self.df_fundamentals[\"eps_growth\"] = self.df_fundamentals[\"eps\"].pct_change()\n",
        "        self.df_fundamentals[\"epsdiluted_growth\"] = self.df_fundamentals[\"epsdiluted\"].pct_change()\n",
        "        self.df_fundamentals.fillna(0, inplace=True)\n",
        "\n",
        "    def __get_linear_regression_forecast(self):\n",
        "\n",
        "        df_forecast_fcf = self.__get_forecast(\"freeCashFlow\")\n",
        "        df_forecast_netIncome = self.__get_forecast(\"netIncome\")\n",
        "        df_forecast_ebitda = self.__get_forecast(\"EBITDA\")\n",
        "        df_forecast_ebit = self.__get_forecast(\"EBIT\")\n",
        "        df_forecast_eps = self.__get_forecast(\"eps\")\n",
        "        df_forecast_eps_diluted = self.__get_forecast(\"epsdiluted\")\n",
        "        df_forecast_revenue = self.__get_forecast(\"revenue\")\n",
        "\n",
        "        df_forecast_metrics = [\n",
        "            df_forecast_fcf,\n",
        "            df_forecast_netIncome,\n",
        "            df_forecast_ebitda,\n",
        "            df_forecast_ebit,\n",
        "            df_forecast_eps,\n",
        "            df_forecast_eps_diluted,\n",
        "            df_forecast_revenue,\n",
        "        ]\n",
        "\n",
        "        def __get_year(date):\n",
        "            return pd.Timestamp(date).year\n",
        "\n",
        "        try:\n",
        "            df_merged = reduce(\n",
        "                lambda left, right: pd.merge(left, right, on=[\"date\"], how=\"outer\"),\n",
        "                df_forecast_metrics,\n",
        "            ).fillna(\"void\")\n",
        "            df_merged[\"year\"] = df_merged[\"date\"].apply(__get_year)\n",
        "            df_merged.set_index(\"year\", inplace=True)\n",
        "            self.df_fundamentals = pd.concat([self.df_fundamentals, df_merged], axis=0)\n",
        "            self.df_fundamentals.fillna(0, inplace=True)\n",
        "        except (Exception) as e:\n",
        "            print(\"fail during linear regression forecast\")\n",
        "            exc_type, exc_obj, exc_tb = sys.exc_info()\n",
        "            fname = os.path.split(exc_tb.tb_frame.f_code.co_filename)[1]\n",
        "            print(exc_type, fname, exc_tb.tb_lineno)\n",
        "\n",
        "    def __get_forecast(self, metric):\n",
        "        df = self.df_fundamentals.loc[self.df_fundamentals[metric] != 0][[\"date\", metric]]\n",
        "        df.reset_index(inplace=True)\n",
        "        df.rename(columns={\"index\": \"date\"}, inplace=True)\n",
        "        df.rename(columns={0: metric}, inplace=True)\n",
        "        df.reset_index(inplace=True)\n",
        "        try:\n",
        "            x = df[\"index\"].to_numpy()\n",
        "            y = df[metric].to_numpy()\n",
        "\n",
        "            y_future = ForecastLR.get_forecast(x, y)\n",
        "\n",
        "            def __get_year(date):\n",
        "                return pd.Timestamp(date).year\n",
        "\n",
        "            def __get_month(date):\n",
        "                return pd.Timestamp(date).month\n",
        "\n",
        "            def __get_day(date):\n",
        "                return pd.Timestamp(date).day\n",
        "\n",
        "            year = __get_year(df[\"date\"].max())\n",
        "            month = __get_month(df[\"date\"].max())\n",
        "            day = __get_day(df[\"date\"].max())\n",
        "        except (Exception) as e:\n",
        "            print(e)\n",
        "\n",
        "        try:\n",
        "            forecast_list = list()\n",
        "            df_forecast = pd.DataFrame()\n",
        "\n",
        "            for j in range(0, y_future.size):\n",
        "                year = year + 1\n",
        "                my_date = f\"{year}-{month}-{day}\"\n",
        "                forecasting_dict = dict(\n",
        "                    {\"year\": year, \"date\": my_date, metric: float(round(y_future[j][0], 2)),}\n",
        "                )\n",
        "                forecast_list.append(forecasting_dict)\n",
        "\n",
        "            df_forecast = pd.DataFrame(forecast_list)\n",
        "            df_forecast.set_index(\"year\", inplace=True)\n",
        "\n",
        "            return df_forecast\n",
        "\n",
        "        except (Exception) as e:\n",
        "            exc_type, exc_obj, exc_tb = sys.exc_info()\n",
        "            fname = os.path.split(exc_tb.tb_frame.f_code.co_filename)[1]\n",
        "            print(exc_type, fname, exc_tb.tb_lineno)\n",
        "\n",
        "    def __get_last_data(self, metric):\n",
        "        return round(\n",
        "            self.df_fundamentals.loc[self.df_fundamentals[\"date\"] == self.statement_date][\n",
        "                metric\n",
        "            ].iloc[0],\n",
        "            2,\n",
        "        )\n",
        "\n",
        "    def get_last_revenue(self):\n",
        "        return self.__get_last_data(\"revenue\")\n",
        "\n",
        "    def get_last_revenue_per_share(self):\n",
        "        return self.__get_last_data(\"revenue_per_share\")\n",
        "\n",
        "    def get_last_fcf_per_share(self):\n",
        "        return self.__get_last_data(\"fcf_per_share\")\n",
        "\n",
        "    def get_last_ebit_per_share(self):\n",
        "        return self.__get_last_data(\"ebit_per_share\")\n",
        "\n",
        "    def get_last_ebitda_per_share(self):\n",
        "        return self.__get_last_data(\"ebitda_per_share\")\n",
        "\n",
        "    def get_last_net_income(self):\n",
        "        return self.__get_last_data(\"netIncome\")\n",
        "\n",
        "    def get_last_income_tax_expenses(self):\n",
        "        return self.__get_last_data(\"incomeTaxExpense\")\n",
        "\n",
        "    def get_last_depreciationAndAmortization(self):\n",
        "        return self.__get_last_data(\"depreciationAndAmortization\")\n",
        "\n",
        "    def get_last_freeCashFlow(self):\n",
        "        return self.__get_last_data(\"freeCashFlow\")\n",
        "\n",
        "    def get_last_interestExpense(self):\n",
        "        return self.__get_last_data(\"interestExpense\")\n",
        "\n",
        "    def get_last_totalStockholdersEquity(self):\n",
        "        return self.__get_last_data(\"totalStockholdersEquity\")\n",
        "\n",
        "    def get_last_shortTermDebt(self):\n",
        "        return self.__get_last_data(\"shortTermDebt\")\n",
        "\n",
        "    def get_last_longTermDebt(self):\n",
        "        return self.__get_last_data(\"longTermDebt\")\n",
        "\n",
        "    def get_last_totalAssets(self):\n",
        "        return self.__get_last_data(\"totalAssets\")\n",
        "\n",
        "    def get_last_totalLiabilities(self):\n",
        "        return self.__get_last_data(\"totalLiabilities\")\n",
        "\n",
        "    def get_last_ebit(self):\n",
        "        return self.__get_last_data(\"EBIT\")\n",
        "\n",
        "    def get_last_eps_diluted(self):\n",
        "        return self.__get_last_data(\"epsdiluted\")\n",
        "\n",
        "    def get_last_gross_margin(self):\n",
        "        return self.__get_last_data(\"margin_gross\")\n",
        "\n",
        "    def get_last_margin_ebit(self):\n",
        "        return self.__get_last_data(\"margin_ebit\")\n",
        "\n",
        "    def get_last_margin_net(self):\n",
        "        return self.__get_last_data(\"margin_net\")\n",
        "\n",
        "    def get_last_margin_fcf(self):\n",
        "        return self.__get_last_data(\"margin_fcf\")\n",
        "\n",
        "    def get_radar_margin(self):\n",
        "        margin_gross = self.__get_last_data(\"margin_gross\")\n",
        "        margin_ebit = self.__get_last_data(\"margin_ebit\")\n",
        "        margin_net = self.__get_last_data(\"margin_net\")\n",
        "        margin_fcf = self.__get_last_data(\"margin_fcf\")\n",
        "\n",
        "        margin_gross_rating = 0.0\n",
        "        margin_ebit_rating = 0.0\n",
        "        margin_net_rating = 0.0\n",
        "        margin_fcf_rating = 0.0\n",
        "\n",
        "        if margin_gross >= 40:\n",
        "            margin_gross_rating = 2.0\n",
        "        elif margin_gross >= 20 and margin_gross <= 39:\n",
        "            margin_gross_rating = 1.0\n",
        "        else:\n",
        "            margin_gross_rating = 0.0\n",
        "\n",
        "        if margin_ebit >= 20:\n",
        "            margin_ebit_rating = 2.0\n",
        "        elif margin_ebit > 10 and margin_ebit <= 19:\n",
        "            margin_ebit_rating = 1.0\n",
        "        else:\n",
        "            margin_ebit_rating = 0.0\n",
        "\n",
        "        if margin_net >= 20:\n",
        "            margin_net_rating = 2.0\n",
        "        elif margin_net > 10 and margin_net <= 19:\n",
        "            margin_net_rating = 1.0\n",
        "        else:\n",
        "            margin_net_rating = 0.0\n",
        "\n",
        "        if margin_fcf >= 16:\n",
        "            margin_fcf_rating = 2.0\n",
        "        elif margin_fcf > 6 and margin_fcf <= 15:\n",
        "            margin_fcf_rating = 1.0\n",
        "        else:\n",
        "            margin_fcf_rating = 0.0\n",
        "\n",
        "        return mean([margin_gross_rating, margin_ebit_rating, margin_net_rating, margin_fcf_rating])\n",
        "\n",
        "    def get_last_ebitda(self):\n",
        "        return self.__get_last_data(\"EBITDA\")\n",
        "\n",
        "    def get_last_marketcap(self):\n",
        "        return self.__get_last_data(\"marketcap\")\n",
        "\n",
        "    def get_last_weightedAverageShsOut(self):\n",
        "        return self.__get_last_data(\"weightedAverageShsOut\")\n",
        "\n",
        "    def get_last_cashAndCashEquivalents(self):\n",
        "        return self.__get_last_data(\"cashAndCashEquivalents\")\n",
        "\n",
        "    def get_last_totalDebt(self):\n",
        "        return self.__get_last_data(\"totalDebt\")\n",
        "\n",
        "    def get_last_shortTermInvestments(self):\n",
        "        return self.__get_last_data(\"shortTermInvestments\")\n",
        "\n",
        "    def get_eps_historical(self):\n",
        "        return self.df_fundamentals[\"epsdiluted\"].round(2)\n",
        "\n",
        "    def get_ebit_per_share_historical(self):\n",
        "        return self.df_fundamentals[\"ebit_per_share\"].round(2)\n",
        "\n",
        "    def get_revenue_per_share_historical(self):\n",
        "        return self.df_fundamentals[\"revenue_per_share\"].round(2)\n",
        "\n",
        "    def get_fcf_per_share_historical(self):\n",
        "        return self.df_fundamentals[\"fcf_per_share\"].round(2)\n",
        "\n",
        "    def get_radar_growth(self):\n",
        "        return 2.0\n"
      ],
      "execution_count": null,
      "outputs": []
    },
    {
      "cell_type": "markdown",
      "metadata": {
        "id": "NfCSMdVhbAom"
      },
      "source": [
        "# Valuation class"
      ]
    },
    {
      "cell_type": "code",
      "metadata": {
        "id": "F9g5EH9cb9Ca"
      },
      "source": [
        "import sys, os\n",
        "from typing import Dict\n",
        "\n",
        "from datetime import datetime\n",
        "\n",
        "import pandas as pd\n",
        "import numpy as np\n",
        "\n",
        "\n",
        "class Valuation:\n",
        "    def __init__(self, df_financials_with_stock_price, ticker):\n",
        "        self.df_fundamentals = df_financials_with_stock_price\n",
        "        self.ticker = ticker\n",
        "\n",
        "        try:\n",
        "            self.statement_date = self.df_fundamentals[\"date\"].max()\n",
        "            self.five_years_ago_date = self.df_fundamentals.loc[\n",
        "                self.df_fundamentals[\"date\"] < self.statement_date\n",
        "            ][\n",
        "                \"date\"\n",
        "            ].min()  # .iloc[0]\n",
        "        except (Exception) as e:\n",
        "            print(\"Error raise inside the valuation object builder\")\n",
        "            exc_type, exc_obj, exc_tb = sys.exc_info()\n",
        "            fname = os.path.split(exc_tb.tb_frame.f_code.co_filename)[1]\n",
        "            print(exc_type, fname, exc_tb.tb_lineno)\n",
        "\n",
        "    def __get_median_five_years(self, multiple):\n",
        "        return round(\n",
        "            self.df_fundamentals.loc[self.df_fundamentals[multiple] != 0][multiple].median(), 2,\n",
        "        )\n",
        "\n",
        "    def __get_growth_cagr_last_five_years(self, metric):\n",
        "        last_reported = self.df_fundamentals.loc[\n",
        "            self.df_fundamentals[\"date\"] == self.statement_date\n",
        "        ][metric].iloc[0]\n",
        "        five_years_ago = self.df_fundamentals.loc[\n",
        "            self.df_fundamentals[\"date\"] == self.five_years_ago_date\n",
        "        ][metric].iloc[0]\n",
        "\n",
        "        last_reported = round(last_reported, 2)\n",
        "        five_years_ago = round(five_years_ago, 2)\n",
        "\n",
        "        if five_years_ago <= 0.0:\n",
        "            cagr_five_years = 0.0\n",
        "        else:\n",
        "            cagr_five_years = round((((last_reported / five_years_ago) ** (1 / 5)) - 1), 2)\n",
        "        # CAGR adjusted (dealing with negative numbers) http://fortmarinus.com/blog/1214/\n",
        "        # if five_years_ago <= 0.0:\n",
        "        #    cagr_five_years_adjusted = 0.0\n",
        "        # else:\n",
        "        #    cagr_five_years_adjusted = round(\n",
        "        #        (\n",
        "        #            (((last_reported - five_years_ago) + abs(five_years_ago)) / abs(five_years_ago))\n",
        "        #            ** (1.0 / 5.0)\n",
        "        #        )\n",
        "        #        - 1.0,\n",
        "        #        2,\n",
        "        #    )\n",
        "\n",
        "        return cagr_five_years\n",
        "\n",
        "    def __get_cagr(self, numerator, denominator):\n",
        "        if denominator <= 0.0:\n",
        "            return 0.0\n",
        "        else:\n",
        "            cagr = round(\n",
        "                ((((numerator - denominator) + abs(denominator)) / abs(denominator)) ** (1.0 / 5.0))\n",
        "                - 1.0,\n",
        "                2,\n",
        "            )\n",
        "            return cagr\n",
        "\n",
        "    def __get_five_years_forecast(self, metric):\n",
        "\n",
        "        last_reported = self.df_fundamentals.loc[\n",
        "            self.df_fundamentals[\"date\"] == self.statement_date\n",
        "        ][metric].iloc[0]\n",
        "\n",
        "        if last_reported <= 0.0:\n",
        "            return 0.0\n",
        "\n",
        "        # print(f\"{self.ticker} {metric} in {self.statement_date} is {last_reported}\")\n",
        "\n",
        "        growth_cagr = self.__get_growth_cagr_last_five_years(metric)\n",
        "        # print(f\"{self.ticker} {metric} GROWTH CAGR: {growth_cagr}\")\n",
        "        growth_cagr_reduced = round(growth_cagr / 1.25, 2)\n",
        "        # print(f\"{self.ticker} {metric} GROWTH CAGR REDUCED: {growth_cagr_reduced}\")\n",
        "        five_years_forecast = round((last_reported * growth_cagr_reduced * 5) + last_reported, 2)\n",
        "\n",
        "        # print(f\"{self.ticker} {metric} in five years is {five_years_forecast}\")\n",
        "\n",
        "        return five_years_forecast\n",
        "\n",
        "    def __get_stock_price_five_years_forecast(self, metric, multiple):\n",
        "        try:\n",
        "            median = self.__get_median_five_years(multiple)\n",
        "            # print(f\"{self.ticker} {multiple}: {median}\")\n",
        "            median_reduced = round(median - (median * 0.10), 2)\n",
        "\n",
        "            five_years_forecast = self.__get_five_years_forecast(metric)\n",
        "            # print(f\"{self.ticker} price_{metric}_five_years: {five_years_forecast}\")\n",
        "\n",
        "            price_five_years = round(five_years_forecast * median, 2)\n",
        "\n",
        "            # print(f\"{self.ticker} price_{multiple}_five_years: {price_five_years}\")\n",
        "            return price_five_years\n",
        "\n",
        "        except (Exception) as e:\n",
        "            print(\n",
        "                f\"Error raise during {self.ticker} __get_stock_price_five_years_forecast calculation\"\n",
        "            )\n",
        "            exc_type, exc_obj, exc_tb = sys.exc_info()\n",
        "            fname = os.path.split(exc_tb.tb_frame.f_code.co_filename)[1]\n",
        "            print(exc_type, fname, exc_tb.tb_lineno)\n",
        "\n",
        "    def __get_last_data(self, metric):\n",
        "        return round(\n",
        "            self.df_fundamentals.loc[self.df_fundamentals[\"date\"] == self.statement_date][\n",
        "                metric\n",
        "            ].iloc[0],\n",
        "            2,\n",
        "        )\n",
        "\n",
        "    def get_last_enterprise_value(self):\n",
        "        return self.__get_last_data(\"enterprise_value\")\n",
        "\n",
        "    def get_last_ev_ebitda(self):\n",
        "        return self.__get_last_data(\"EV_EBITDA\")\n",
        "\n",
        "    def get_last_ev_ebit(self):\n",
        "        return self.__get_last_data(\"EV_EBIT\")\n",
        "\n",
        "    def get_last_ev_fcf(self):\n",
        "        return self.__get_last_data(\"EV_FCF\")\n",
        "\n",
        "    def get_last_per(self):\n",
        "        return self.__get_last_data(\"per\")\n",
        "\n",
        "    # PRICE PER\n",
        "    def get_per_median_five_years(self):\n",
        "        return self.__get_median_five_years(\"per\")\n",
        "\n",
        "    def get_eps_growth_cagr_last_five_years(self):\n",
        "        return self.__get_growth_cagr_last_five_years(\"epsdiluted\")\n",
        "\n",
        "    def get_eps_five_years_forecast(self):\n",
        "        return self.__get_five_years_forecast(\"epsdiluted\")\n",
        "\n",
        "    def get_stock_price_five_years_forecast_pe(self):\n",
        "        return self.__get_stock_price_five_years_forecast(\"epsdiluted\", \"per\")\n",
        "\n",
        "    def get_price_five_years_forecast_pe_cagr(self, current_price):\n",
        "        future_price = self.__get_stock_price_five_years_forecast(\"epsdiluted\", \"per\")\n",
        "        return self.__get_cagr(future_price, current_price)\n",
        "\n",
        "    # Price EV/FCF\n",
        "    def get_ev_fcf_median_five_years(self):\n",
        "        return self.__get_median_five_years(\"EV_FCF\")\n",
        "\n",
        "    def get_fcf_per_share_growth_cagr_last_five_years(self):\n",
        "        return self.__get_growth_cagr_last_five_years(\"fcf_per_share\")\n",
        "\n",
        "    def get_fcf_per_share_five_years_forecast(self):\n",
        "        return self.__get_five_years_forecast(\"fcf_per_share\")\n",
        "\n",
        "    def get_stock_price_five_years_forecast_ev_fcf(self):\n",
        "        return self.__get_stock_price_five_years_forecast(\"fcf_per_share\", \"EV_FCF\")\n",
        "\n",
        "    def get_price_five_years_forecast_ev_fcf_cagr(self, current_price):\n",
        "        future_price = self.__get_stock_price_five_years_forecast(\"fcf_per_share\", \"EV_FCF\")\n",
        "        return self.__get_cagr(future_price, current_price)\n",
        "\n",
        "    # Price EV/EBITDA\n",
        "    def get_ev_ebitda_median_five_years(self):\n",
        "        return self.__get_median_five_years(\"EV_EBITDA\")\n",
        "\n",
        "    def get_ebitda_per_share_growth_cagr_last_five_years(self):\n",
        "        return self.__get_growth_cagr_last_five_years(\"ebitda_per_share\")\n",
        "\n",
        "    def get_ebitda_per_share_five_years_forecast(self):\n",
        "        return self.__get_five_years_forecast(\"ebitda_per_share\")\n",
        "\n",
        "    def get_stock_price_five_years_forecast_ev_ebitda(self):\n",
        "        return self.__get_stock_price_five_years_forecast(\"ebitda_per_share\", \"EV_EBITDA\")\n",
        "\n",
        "    def get_price_five_years_forecast_ev_ebitda_cagr(self, current_price):\n",
        "        future_price = self.__get_stock_price_five_years_forecast(\"ebitda_per_share\", \"EV_EBITDA\")\n",
        "        return self.__get_cagr(future_price, current_price)\n",
        "\n",
        "    # Price EV/EBIT\n",
        "    def get_ev_ebit_median_five_years(self):\n",
        "        return self.__get_median_five_years(\"EV_EBIT\")\n",
        "\n",
        "    def get_ebit_per_share_growth_cagr_last_five_years(self):\n",
        "        return self.__get_growth_cagr_last_five_years(\"ebit_per_share\")\n",
        "\n",
        "    def get_ebit_per_share_five_years_forecast(self):\n",
        "        return self.__get_five_years_forecast(\"ebit_per_share\")\n",
        "\n",
        "    def get_stock_price_five_years_forecast_ev_ebit(self):\n",
        "        return self.__get_stock_price_five_years_forecast(\"ebit_per_share\", \"EV_EBIT\")\n",
        "\n",
        "    def get_price_five_years_forecast_ev_ebit_cagr(self, current_price):\n",
        "        future_price = self.__get_stock_price_five_years_forecast(\"ebit_per_share\", \"EV_EBIT\")\n",
        "        return self.__get_cagr(future_price, current_price)\n",
        "\n",
        "    # REVENUE\n",
        "\n",
        "    def get_revenue_per_share_growth_cagr_last_five_years(self):\n",
        "        return self.__get_growth_cagr_last_five_years(\"revenue_per_share\")\n",
        "\n",
        "    def get_radar_valuation(self):\n",
        "        return 2.0\n"
      ],
      "execution_count": null,
      "outputs": []
    },
    {
      "cell_type": "markdown",
      "metadata": {
        "id": "ckTgyvfse_Kj"
      },
      "source": [
        "# Ratios Class"
      ]
    },
    {
      "cell_type": "code",
      "metadata": {
        "id": "VlHsbHrUe3Oa"
      },
      "source": [
        "from typing import Dict\n",
        "\n",
        "from datetime import datetime\n",
        "\n",
        "import pandas as pd\n",
        "import numpy as np\n",
        "\n",
        "from statistics import mean\n",
        "\n",
        "\n",
        "class Ratios:\n",
        "    def __init__(self, ratios_json, key_metrics_json, ticker):\n",
        "        self.ticker = ticker\n",
        "        self.df_ratios = pd.DataFrame(ratios_json)\n",
        "        self.df_key_metrics = pd.DataFrame(key_metrics_json)\n",
        "\n",
        "        self.statement_date_ratios = self.df_ratios[\"date\"].max()\n",
        "        self.first_statement_date_ratios = self.df_ratios.loc[\n",
        "            self.df_ratios[\"date\"] < self.statement_date_ratios\n",
        "        ][\"date\"].iloc[0]\n",
        "\n",
        "        self.statement_date_key_metrics = self.df_key_metrics[\"date\"].max()\n",
        "        self.first_statement_date_key_metrics = self.df_key_metrics.loc[\n",
        "            self.df_key_metrics[\"date\"] < self.statement_date_key_metrics\n",
        "        ][\"date\"].iloc[0]\n",
        "\n",
        "    def get_quick_ratio_historical(self):\n",
        "        try:\n",
        "            self.df_ratios[\"quickRatio\"] = round(self.df_ratios[\"quickRatio\"], 2)\n",
        "            return self.df_ratios[[\"date\", \"quickRatio\"]].set_index(\"date\")\n",
        "        except (Exception) as e:\n",
        "            print(f\"{self.ticker} failed in get_quick_ratio_historical\")\n",
        "            print(e)\n",
        "\n",
        "    def get_current_ratio_historical(self):\n",
        "        try:\n",
        "            self.df_ratios[\"currentRatio\"] = round(self.df_ratios[\"currentRatio\"], 2)\n",
        "            return self.df_ratios[[\"date\", \"currentRatio\"]].set_index(\"date\")\n",
        "        except (Exception) as e:\n",
        "            print(f\"{self.ticker} failed in get_current_ratio_historical\")\n",
        "            print(e)\n",
        "\n",
        "    def get_roe_historical(self):\n",
        "        try:\n",
        "            self.df_ratios[\"returnOnEquity\"] = round(self.df_ratios[\"returnOnEquity\"], 2)\n",
        "            return self.df_ratios[[\"date\", \"returnOnEquity\"]].set_index(\"date\")\n",
        "        except (Exception) as e:\n",
        "            print(f\"{self.ticker} failed in get_roe_historical\")\n",
        "            print(e)\n",
        "\n",
        "    def get_roa_historical(self):\n",
        "        try:\n",
        "            self.df_ratios[\"returnOnAssets\"] = round(self.df_ratios[\"returnOnAssets\"], 2)\n",
        "            return self.df_ratios[[\"date\", \"returnOnAssets\"]].set_index(\"date\")\n",
        "        except (Exception) as e:\n",
        "            print(f\"{self.ticker} failed in get_roa_historical\")\n",
        "            print(e)\n",
        "\n",
        "    def get_roce_historical(self):\n",
        "        try:\n",
        "            self.df_ratios[\"returnOnCapitalEmployed\"] = round(\n",
        "                self.df_ratios[\"returnOnCapitalEmployed\"], 2\n",
        "            )\n",
        "            return self.df_ratios[[\"date\", \"returnOnCapitalEmployed\"]].set_index(\"date\")\n",
        "        except (Exception) as e:\n",
        "            print(f\"{self.ticker} failed in get_roce_historical\")\n",
        "            print(e)\n",
        "\n",
        "    def get_roic_historical(self):\n",
        "        try:\n",
        "            self.df_key_metrics[\"roic\"] = round(self.df_key_metrics[\"roic\"], 2)\n",
        "            return self.df_key_metrics[[\"date\", \"roic\"]].set_index(\"date\")\n",
        "        except (Exception) as e:\n",
        "            print(f\"{self.ticker} failed in get_roic_historical\")\n",
        "            print(e)\n",
        "\n",
        "    def __get_last_data_ratios(self, metric):\n",
        "        return round(\n",
        "            self.df_ratios.loc[self.df_ratios[\"date\"] == self.statement_date_ratios][metric].iloc[\n",
        "                0\n",
        "            ],\n",
        "            2,\n",
        "        )\n",
        "\n",
        "    def __get_last_data_key_metrics(self, metric):\n",
        "        return round(\n",
        "            self.df_key_metrics.loc[self.df_key_metrics[\"date\"] == self.statement_date_key_metrics][\n",
        "                metric\n",
        "            ].iloc[0],\n",
        "            2,\n",
        "        )\n",
        "\n",
        "    def get_last_currentRatio(self):\n",
        "        return round(self.__get_last_data_ratios(\"currentRatio\"), 2)\n",
        "\n",
        "    def get_last_interestCoverage(self):\n",
        "        return round(self.__get_last_data_ratios(\"interestCoverage\"), 2)\n",
        "\n",
        "    def get_last_debt_ratio(self, total_debt, totalAssets):\n",
        "        return round(total_debt / totalAssets, 2) * 100\n",
        "\n",
        "    def get_last_debt_to_equity(self, totalLiabilities, equity):\n",
        "        return round(totalLiabilities / equity, 2) * 100\n",
        "\n",
        "    def get_last_returnOnEquity(self):\n",
        "        return round(self.__get_last_data_ratios(\"returnOnEquity\"), 2) * 100\n",
        "\n",
        "    def get_last_returnOnAssets(self):\n",
        "        return round(self.__get_last_data_ratios(\"returnOnAssets\"), 2) * 100\n",
        "\n",
        "    def get_last_returnOnCapitalEmployed(self):\n",
        "        return round(self.__get_last_data_ratios(\"returnOnCapitalEmployed\"), 2) * 100\n",
        "\n",
        "    def get_last_roic(self):\n",
        "        return round(self.__get_last_data_key_metrics(\"roic\"), 2) * 100\n",
        "\n",
        "    def get_radar_profitability(self):\n",
        "        roe = self.get_last_returnOnEquity()\n",
        "        roa = self.get_last_returnOnAssets()\n",
        "        roce = self.get_last_returnOnCapitalEmployed()\n",
        "        roic = self.get_last_roic()\n",
        "\n",
        "        roe_rating = 0.0\n",
        "        roa_rating = 0.0\n",
        "        roce_rating = 0.0\n",
        "        roic_rating = 0.0\n",
        "\n",
        "        if roe >= 20:\n",
        "            roe_rating = 2.0\n",
        "        elif roe >= 10 and roe < 20:\n",
        "            roe_rating = 1.0\n",
        "        else:\n",
        "            roe_rating = 0.0\n",
        "\n",
        "        if roa >= 5:\n",
        "            roa_rating = 2.0\n",
        "        elif roa > 1 and roa < 5:\n",
        "            roa_rating = 1.0\n",
        "        else:\n",
        "            roa_rating = 0.0\n",
        "\n",
        "        if roce >= 15:\n",
        "            roce_rating = 2.0\n",
        "        elif roce > 10 and roce < 15:\n",
        "            roce_rating = 1.0\n",
        "        else:\n",
        "            roce_rating = 0.0\n",
        "\n",
        "        if roic >= 20:\n",
        "            roic_rating = 2.0\n",
        "        elif roic > 9 and roic < 20:\n",
        "            roic_rating = 1.0\n",
        "        else:\n",
        "            roic_rating = 0.0\n",
        "\n",
        "        return mean([roe_rating, roa_rating, roce_rating, roic_rating])\n",
        "\n",
        "    def get_radar_health(self, debt_ratio, debt_to_equity):\n",
        "        interest_coverage = self.get_last_interestCoverage() * 100\n",
        "        debt_ratio = debt_ratio\n",
        "        debt_to_equity = debt_to_equity\n",
        "        current_ratio = self.get_last_currentRatio() * 100\n",
        "\n",
        "        interest_coverage_rating = 0.0\n",
        "        debt_ratio_rating = 0.0\n",
        "        debt_to_equity_rating = 0.0\n",
        "        current_ratio_rating = 0.0\n",
        "\n",
        "        if interest_coverage > 10:\n",
        "            interest_coverage_rating = 2.0\n",
        "        elif interest_coverage > 5 and interest_coverage <= 10:\n",
        "            interest_coverage_rating = 1.0\n",
        "        else:\n",
        "            interest_coverage_rating = 0.0\n",
        "\n",
        "        if debt_ratio > 10:\n",
        "            debt_ratio_rating = 2.0\n",
        "        elif debt_ratio > 5 and debt_ratio <= 10:\n",
        "            debt_ratio_rating = 1.0\n",
        "        else:\n",
        "            debt_ratio_rating = 0.0\n",
        "\n",
        "        if debt_to_equity > 10:\n",
        "            debt_to_equity_rating = 2.0\n",
        "        elif debt_to_equity > 5 and debt_to_equity <= 10:\n",
        "            debt_to_equity_rating = 1.0\n",
        "        else:\n",
        "            debt_to_equity_rating = 0.0\n",
        "\n",
        "        if current_ratio > 10:\n",
        "            current_ratio_rating = 2.0\n",
        "        elif current_ratio > 5 and current_ratio <= 10:\n",
        "            current_ratio_rating = 1.0\n",
        "        else:\n",
        "            current_ratio_rating = 0.0\n",
        "\n",
        "        return mean(\n",
        "            [\n",
        "                interest_coverage_rating,\n",
        "                debt_ratio_rating,\n",
        "                debt_to_equity_rating,\n",
        "                current_ratio_rating,\n",
        "            ]\n",
        "        )\n"
      ],
      "execution_count": null,
      "outputs": []
    },
    {
      "cell_type": "markdown",
      "metadata": {
        "id": "XUOnMh3Rjo2U"
      },
      "source": [
        "# Stock price class"
      ]
    },
    {
      "cell_type": "code",
      "metadata": {
        "id": "Kg7z9X9LjjtD"
      },
      "source": [
        "from datetime import datetime\n",
        "from typing import Dict\n",
        "from functools import reduce\n",
        "\n",
        "import pandas as pd\n",
        "import numpy as np\n",
        "\n",
        "pd.options.display.float_format = \"{:.2f}\".format\n",
        "pd.options.mode.chained_assignment = None\n",
        "\n",
        "np.set_printoptions(suppress=True, formatter={\"float_kind\": \"{:f}\".format}, precision=2)\n",
        "\n",
        "\n",
        "class StockPrice:\n",
        "    def __init__(self, stock_price_json, ticker):\n",
        "        def __get_year(date):\n",
        "            return pd.Timestamp(date).year\n",
        "\n",
        "        self.ticker = ticker\n",
        "        self.df_stock_price = pd.DataFrame(stock_price_json[\"historical\"])\n",
        "        self.df_stock_price[\"year\"] = self.df_stock_price[\"date\"].apply(__get_year)\n",
        "        self.df_stock_price.set_index(\"date\", inplace=True)\n",
        "\n",
        "    def get_financials_with_stock_price(self, df_financials):\n",
        "        self.df_financials_stock_price = df_financials\n",
        "        self.df_financials_stock_price.set_index(\"year\", inplace=True)\n",
        "        self.df_stock_price.reset_index(inplace=True)\n",
        "\n",
        "        try:\n",
        "            for date in self.df_financials_stock_price[\"date\"]:\n",
        "                my_date = datetime.strptime(date, \"%Y-%m-%d\")\n",
        "                if my_date.month >= 1 and my_date.month <= 9:\n",
        "                    start_date = f\"{my_date.year}-0{my_date.month}-01\"\n",
        "                    end_date = f\"{my_date.year}-0{my_date.month}-31\"\n",
        "                else:\n",
        "                    start_date = f\"{my_date.year}-{my_date.month}-01\"\n",
        "                    end_date = f\"{my_date.year}-{my_date.month}-31\"\n",
        "                df_month = self.df_stock_price.loc[\n",
        "                    (self.df_stock_price[\"date\"] >= start_date)\n",
        "                    & (self.df_stock_price[\"date\"] <= end_date)\n",
        "                ]\n",
        "                my_price = df_month.loc[df_month[\"date\"] == df_month[\"date\"].max()][\"close\"].iloc[0]\n",
        "                self.df_financials_stock_price.at[my_date.year, \"price\"] = my_price\n",
        "            return self.df_financials_stock_price\n",
        "\n",
        "        except (Exception) as e:\n",
        "            print(f\"Ticker: {self.ticker}, Error raise during financials and stock price matching\")\n",
        "            print(e)\n"
      ],
      "execution_count": null,
      "outputs": []
    },
    {
      "cell_type": "markdown",
      "metadata": {
        "id": "rqn6xa43nsVq"
      },
      "source": [
        "# Company Class"
      ]
    },
    {
      "cell_type": "code",
      "metadata": {
        "id": "g8Ro1uPVnxca"
      },
      "source": [
        "class Company:\n",
        "    def __init__(self, ticker, stock_price_today, stock_price, financials, fundamentals, ratios, valuation):\n",
        "      self.ticker = ticker\n",
        "      self.stock_price_today = stock_price_today\n",
        "      self.stock_price = stock_price\n",
        "      self.financials = financials\n",
        "      self.fundamentals = fundamentals\n",
        "      self.ratios = ratios\n",
        "      self.valuation = valuation"
      ],
      "execution_count": null,
      "outputs": []
    },
    {
      "cell_type": "markdown",
      "metadata": {
        "id": "-FdWPBhVdE8Y"
      },
      "source": [
        "# Utils"
      ]
    },
    {
      "cell_type": "code",
      "metadata": {
        "id": "mbWiFboNUtHl"
      },
      "source": [
        "def get_json(url):\n",
        "  try:\n",
        "    response = urlopen(url)\n",
        "    data = response.read().decode(\"utf-8\")\n",
        "    my_json = json.loads(data)\n",
        "    return my_json\n",
        "  except urllib.error.URLError:\n",
        "    print(url)\n",
        "    print(\"Timeout, we will try again\")\n",
        "    try:\n",
        "      response = urlopen(url)\n",
        "      data = response.read().decode(\"utf-8\")\n",
        "      my_json = json.loads(data)\n",
        "      return my_json\n",
        "    except urllib.error.URLError:\n",
        "      my_json = []\n",
        "      print(\"Second Try failed again, looks it doesn't exits\")\n",
        "      return my_json"
      ],
      "execution_count": null,
      "outputs": []
    },
    {
      "cell_type": "code",
      "metadata": {
        "id": "fJo_QAYhnLNY"
      },
      "source": [
        "def load_company_data(ticker):\n",
        "  fmp_url = \"https://financialmodelingprep.com/api/v3\"\n",
        "  fmp_api_key = \"c6fe90117196f7dcf64d21dd060af01b\"\n",
        "\n",
        "  ticker_name = ticker\n",
        "  print(ticker_name)\n",
        "  url_cash_flow = (f\"{fmp_url}/cash-flow-statement/{ticker_name}?limit=5&apikey={fmp_api_key}\")\n",
        "  url_income_statement = (f\"{fmp_url}/income-statement/{ticker_name}?limit=5&apikey={fmp_api_key}\")\n",
        "  url_balance_sheet = (f\"{fmp_url}/balance-sheet-statement/{ticker_name}?limit=5&apikey={fmp_api_key}\")\n",
        "  url_quote = f\"{fmp_url}/quote/{ticker_name}?limit=1&apikey={fmp_api_key}\"\n",
        "  url_dcf = f\"{fmp_url}/discounted-cash-flow/{ticker_name}?limit=1&apikey={fmp_api_key}\"\n",
        "  url_dcf_historical = f\"{fmp_url}/historical-daily-discounted-cash-flow/{ticker_name}?apikey={fmp_api_key}\"\n",
        "  url_stock_price = (f\"{fmp_url}/historical-price-full/{ticker_name}?serietype=line&apikey={fmp_api_key}\")\n",
        "  url_ratios = f\"{fmp_url}/ratios/{ticker_name}?apikey={fmp_api_key}\"\n",
        "  url_key_metrics = f\"{fmp_url}/key-metrics/{ticker_name}?apikey={fmp_api_key}\"\n",
        "\n",
        "  cash_flow_json = get_json(url_cash_flow)\n",
        "  income_statement_json = get_json(url_income_statement)\n",
        "  balance_sheet_json = get_json(url_balance_sheet)\n",
        "  quote_json = get_json(url_quote)\n",
        "  dcf_json = get_json(url_dcf)\n",
        "  dcf_historical_json = get_json(url_dcf_historical)\n",
        "  stock_price_json = get_json(url_stock_price)\n",
        "  ratios_json = get_json(url_ratios)\n",
        "  key_metrics_json = get_json(url_key_metrics)\n",
        "\n",
        "  financials = Financials(income_statement_json, balance_sheet_json, cash_flow_json, ticker_name)\n",
        "  df_accounting = financials.df_accounting\n",
        "  stock_price = StockPrice(stock_price_json, ticker_name)\n",
        "  df_stock_price = financials.df_accounting\n",
        "  df_financials_with_stock_price = stock_price.get_financials_with_stock_price(df_accounting)\n",
        "  fundamentals = Fundamentals(df_financials_with_stock_price, ticker_name)\n",
        "  ratios = Ratios(ratios_json, key_metrics_json, ticker_name)\n",
        "  valuation = Valuation(df_financials_with_stock_price, ticker_name)\n",
        "\n",
        "  statement_date = fundamentals.statement_date\n",
        "  five_years_ago_date = fundamentals.first_statement_date\n",
        "\n",
        "  company = Company(ticker, quote_json[0][\"price\"], stock_price, financials, fundamentals, ratios, valuation)\n",
        "\n",
        "  return company"
      ],
      "execution_count": null,
      "outputs": []
    },
    {
      "cell_type": "markdown",
      "metadata": {
        "id": "1vBLe2LXkMEl"
      },
      "source": [
        "# Data Loader"
      ]
    },
    {
      "cell_type": "code",
      "metadata": {
        "colab": {
          "base_uri": "https://localhost:8080/"
        },
        "id": "cHDtDZQ6p3EK",
        "outputId": "439eddce-e352-46c2-970c-306b8723e040"
      },
      "source": [
        "#@title Set Main Company Ticker { run: \"auto\", vertical-output: true, display-mode: \"both\" }\n",
        "ticker = \"FB\" #@param {type:\"string\"}\n",
        "main_company = load_company_data(ticker)"
      ],
      "execution_count": null,
      "outputs": [
        {
          "output_type": "stream",
          "name": "stdout",
          "text": [
            "FB\n"
          ]
        }
      ]
    },
    {
      "cell_type": "markdown",
      "metadata": {
        "id": "FoNJTps2lMDz"
      },
      "source": [
        "# Growth Analisis"
      ]
    },
    {
      "cell_type": "code",
      "metadata": {
        "colab": {
          "base_uri": "https://localhost:8080/",
          "height": 238
        },
        "id": "rQ0nQsa0rQxR",
        "outputId": "77ab291a-1e7c-4a63-e435-de3d3df54b9a"
      },
      "source": [
        "main_company.fundamentals.df_fundamentals[[\"epsdiluted\", \"revenue_per_share\", \"ebit_per_share\", \"fcf_per_share\"]]"
      ],
      "execution_count": null,
      "outputs": [
        {
          "output_type": "execute_result",
          "data": {
            "text/html": [
              "<div>\n",
              "<style scoped>\n",
              "    .dataframe tbody tr th:only-of-type {\n",
              "        vertical-align: middle;\n",
              "    }\n",
              "\n",
              "    .dataframe tbody tr th {\n",
              "        vertical-align: top;\n",
              "    }\n",
              "\n",
              "    .dataframe thead th {\n",
              "        text-align: right;\n",
              "    }\n",
              "</style>\n",
              "<table border=\"1\" class=\"dataframe\">\n",
              "  <thead>\n",
              "    <tr style=\"text-align: right;\">\n",
              "      <th></th>\n",
              "      <th>epsdiluted</th>\n",
              "      <th>revenue_per_share</th>\n",
              "      <th>ebit_per_share</th>\n",
              "      <th>fcf_per_share</th>\n",
              "    </tr>\n",
              "    <tr>\n",
              "      <th>year</th>\n",
              "      <th></th>\n",
              "      <th></th>\n",
              "      <th></th>\n",
              "      <th></th>\n",
              "    </tr>\n",
              "  </thead>\n",
              "  <tbody>\n",
              "    <tr>\n",
              "      <th>2016</th>\n",
              "      <td>3.49</td>\n",
              "      <td>9.45</td>\n",
              "      <td>4.28</td>\n",
              "      <td>3.97</td>\n",
              "    </tr>\n",
              "    <tr>\n",
              "      <th>2017</th>\n",
              "      <td>5.39</td>\n",
              "      <td>13.75</td>\n",
              "      <td>6.97</td>\n",
              "      <td>5.91</td>\n",
              "    </tr>\n",
              "    <tr>\n",
              "      <th>2018</th>\n",
              "      <td>7.57</td>\n",
              "      <td>19.12</td>\n",
              "      <td>8.69</td>\n",
              "      <td>5.26</td>\n",
              "    </tr>\n",
              "    <tr>\n",
              "      <th>2019</th>\n",
              "      <td>6.43</td>\n",
              "      <td>24.58</td>\n",
              "      <td>8.63</td>\n",
              "      <td>7.38</td>\n",
              "    </tr>\n",
              "    <tr>\n",
              "      <th>2020</th>\n",
              "      <td>10.09</td>\n",
              "      <td>29.77</td>\n",
              "      <td>11.49</td>\n",
              "      <td>8.18</td>\n",
              "    </tr>\n",
              "  </tbody>\n",
              "</table>\n",
              "</div>"
            ],
            "text/plain": [
              "      epsdiluted  revenue_per_share  ebit_per_share  fcf_per_share\n",
              "year                                                              \n",
              "2016        3.49               9.45            4.28           3.97\n",
              "2017        5.39              13.75            6.97           5.91\n",
              "2018        7.57              19.12            8.69           5.26\n",
              "2019        6.43              24.58            8.63           7.38\n",
              "2020       10.09              29.77           11.49           8.18"
            ]
          },
          "metadata": {},
          "execution_count": 11
        }
      ]
    },
    {
      "cell_type": "code",
      "metadata": {
        "colab": {
          "base_uri": "https://localhost:8080/",
          "height": 421
        },
        "id": "RLeX_CL-lx5q",
        "outputId": "4b78c9e6-e4f1-4069-de9e-4f641a8e158f"
      },
      "source": [
        "main_company.fundamentals.df_fundamentals[[\"epsdiluted\", \"ebit_per_share\", \"fcf_per_share\"]].plot(figsize=(15, 6), title=main_company.ticker)"
      ],
      "execution_count": null,
      "outputs": [
        {
          "output_type": "execute_result",
          "data": {
            "text/plain": [
              "<matplotlib.axes._subplots.AxesSubplot at 0x7f0d0b375f90>"
            ]
          },
          "metadata": {},
          "execution_count": 12
        },
        {
          "output_type": "display_data",
          "data": {
            "image/png": "[encoded data removed]",
            "text/plain": [
              "<Figure size 1080x432 with 1 Axes>"
            ]
          },
          "metadata": {
            "needs_background": "light"
          }
        }
      ]
    },
    {
      "cell_type": "code",
      "metadata": {
        "colab": {
          "base_uri": "https://localhost:8080/"
        },
        "id": "-qU8-lOqm_EB",
        "outputId": "af379f15-bd9d-4525-baa3-0549f5972d12"
      },
      "source": [
        "print(f\"Revenue per share GROWTH CAGR: {main_company.valuation.get_revenue_per_share_growth_cagr_last_five_years() * 100}%\")\n",
        "print(f\"EPS per share GROWTH CAGR: {main_company.valuation.get_eps_growth_cagr_last_five_years() * 100}%\")\n",
        "print(f\"FCF per share GROWTH CAGR: {main_company.valuation.get_fcf_per_share_growth_cagr_last_five_years() * 100}%\")\n",
        "print(f\"EBIT per share GROWTH CAGR: {main_company.valuation.get_ebit_per_share_growth_cagr_last_five_years() * 100}%\")"
      ],
      "execution_count": null,
      "outputs": [
        {
          "output_type": "stream",
          "name": "stdout",
          "text": [
            "Revenue per share GROWTH CAGR: 26.0%\n",
            "EPS per share GROWTH CAGR: 24.0%\n",
            "FCF per share GROWTH CAGR: 16.0%\n",
            "EBIT per share GROWTH CAGR: 22.0%\n"
          ]
        }
      ]
    },
    {
      "cell_type": "markdown",
      "metadata": {
        "id": "_e2PqtAH1pIy"
      },
      "source": [
        "# Valuation Analysis"
      ]
    },
    {
      "cell_type": "code",
      "metadata": {
        "colab": {
          "base_uri": "https://localhost:8080/"
        },
        "id": "n3ipTsx73PLO",
        "outputId": "d2134bf0-674f-4afa-f334-644ab041da64"
      },
      "source": [
        "print(main_company.ticker)\n",
        "print(f\"EPS 5Y forecast: {main_company.valuation.get_eps_five_years_forecast()}\")\n",
        "print(f\"EBIT per share 5Y forecast: {main_company.valuation.get_ebit_per_share_five_years_forecast()}\")\n",
        "print(f\"EBITDA per share 5Y forecast: {main_company.valuation.get_ebitda_per_share_five_years_forecast()}\")\n",
        "print(f\"FCF per share 5Y forecast: {main_company.valuation.get_fcf_per_share_five_years_forecast()}\")"
      ],
      "execution_count": null,
      "outputs": [
        {
          "output_type": "stream",
          "name": "stdout",
          "text": [
            "FB\n",
            "EPS 5Y forecast: 19.68\n",
            "EBIT per share 5Y forecast: 21.83\n",
            "EBITDA per share 5Y forecast: 26.34\n",
            "FCF per share 5Y forecast: 13.5\n"
          ]
        }
      ]
    },
    {
      "cell_type": "code",
      "metadata": {
        "colab": {
          "base_uri": "https://localhost:8080/"
        },
        "id": "aBtgS85-3vRH",
        "outputId": "8f9701c3-89fa-463b-83e1-5917cbfc6a55"
      },
      "source": [
        "print(f\"PER median last 5Y: {main_company.valuation.get_per_median_five_years()}\")\n",
        "print(f\"EV EBITDA median last 5Y: {main_company.valuation.get_ev_ebitda_median_five_years()}\")\n",
        "print(f\"EV EBIT median last 5Y: {main_company.valuation.get_ev_ebit_median_five_years()}\")\n",
        "print(f\"EV FCF median last 5Y: {main_company.valuation.get_ev_fcf_median_five_years()}\")"
      ],
      "execution_count": null,
      "outputs": [
        {
          "output_type": "stream",
          "name": "stdout",
          "text": [
            "PER median last 5Y: 31.92\n",
            "EV EBITDA median last 5Y: 18.17\n",
            "EV EBIT median last 5Y: 21.93\n",
            "EV FCF median last 5Y: 25.82\n"
          ]
        }
      ]
    },
    {
      "cell_type": "code",
      "metadata": {
        "colab": {
          "base_uri": "https://localhost:8080/"
        },
        "id": "p1tISlka1vg6",
        "outputId": "4dae373c-12f4-4ccb-adce-044dc21046ef"
      },
      "source": [
        "print(f\"Price Today: {main_company.stock_price_today}\")\n",
        "print(f\"Price forecast 5Y EV EBITDA: {main_company.valuation.get_stock_price_five_years_forecast_ev_ebitda()}\")\n",
        "print(f\"Price forecast 5Y EV EBIT: {main_company.valuation.get_stock_price_five_years_forecast_ev_ebit()}\")\n",
        "print(f\"Price forecast 5Y PER: {main_company.valuation.get_stock_price_five_years_forecast_pe()}\")\n",
        "print(f\"Price forecast 5Y EV FCF: {main_company.valuation.get_stock_price_five_years_forecast_ev_fcf()}\")"
      ],
      "execution_count": null,
      "outputs": [
        {
          "output_type": "stream",
          "name": "stdout",
          "text": [
            "Price Today: 333.12\n",
            "Price forecast 5Y EV EBITDA: 478.6\n",
            "Price forecast 5Y EV EBIT: 478.73\n",
            "Price forecast 5Y PER: 628.19\n",
            "Price forecast 5Y EV FCF: 348.57\n"
          ]
        }
      ]
    },
    {
      "cell_type": "code",
      "metadata": {
        "colab": {
          "base_uri": "https://localhost:8080/"
        },
        "id": "-OAXaQVjfU4E",
        "outputId": "0e437785-9cd6-44a8-cfa4-b3f68001a2de"
      },
      "source": [
        "print(f\"Price Today: {main_company.stock_price_today}\")\n",
        "print(f\"CAGR 5Y price EV EBITDA: {main_company.valuation.get_price_five_years_forecast_ev_ebitda_cagr(main_company.stock_price_today) * 100}\")\n",
        "print(f\"CAGR 5Y price EV EBIT: {main_company.valuation.get_price_five_years_forecast_ev_ebit_cagr(main_company.stock_price_today) * 100}\")\n",
        "print(f\"CAGR 5Y price EV PER: {main_company.valuation.get_price_five_years_forecast_pe_cagr(main_company.stock_price_today) * 100}\")\n",
        "print(f\"CAGR 5Y price EV FCF: {main_company.valuation.get_price_five_years_forecast_ev_fcf_cagr(main_company.stock_price_today) * 100}\")"
      ],
      "execution_count": null,
      "outputs": [
        {
          "output_type": "stream",
          "name": "stdout",
          "text": [
            "Price Today: 333.12\n",
            "CAGR 5Y price EV EBITDA: 8.0\n",
            "CAGR 5Y price EV EBIT: 8.0\n",
            "CAGR 5Y price EV PER: 14.000000000000002\n",
            "CAGR 5Y price EV FCF: 1.0\n"
          ]
        }
      ]
    },
    {
      "cell_type": "markdown",
      "metadata": {
        "id": "V3jdP0s97g_i"
      },
      "source": [
        "# Margins Analysis\n",
        "\n"
      ]
    },
    {
      "cell_type": "code",
      "metadata": {
        "colab": {
          "base_uri": "https://localhost:8080/"
        },
        "id": "FxM7cUmhbyA_",
        "outputId": "2a509549-dca0-439b-f744-0d24dd723525"
      },
      "source": [
        "main_company.fundamentals.df_fundamentals[[\"margin_gross\", \"margin_ebit\", \"margin_net\", \"margin_fcf\"]]"
      ],
      "execution_count": null,
      "outputs": [
        {
          "output_type": "execute_result",
          "data": {
            "text/html": [
              "<div>\n",
              "<style scoped>\n",
              "    .dataframe tbody tr th:only-of-type {\n",
              "        vertical-align: middle;\n",
              "    }\n",
              "\n",
              "    .dataframe tbody tr th {\n",
              "        vertical-align: top;\n",
              "    }\n",
              "\n",
              "    .dataframe thead th {\n",
              "        text-align: right;\n",
              "    }\n",
              "</style>\n",
              "<table border=\"1\" class=\"dataframe\">\n",
              "  <thead>\n",
              "    <tr style=\"text-align: right;\">\n",
              "      <th></th>\n",
              "      <th>margin_gross</th>\n",
              "      <th>margin_ebit</th>\n",
              "      <th>margin_net</th>\n",
              "      <th>margin_fcf</th>\n",
              "    </tr>\n",
              "    <tr>\n",
              "      <th>year</th>\n",
              "      <th></th>\n",
              "      <th></th>\n",
              "      <th></th>\n",
              "      <th></th>\n",
              "    </tr>\n",
              "  </thead>\n",
              "  <tbody>\n",
              "    <tr>\n",
              "      <th>2016</th>\n",
              "      <td>86.00</td>\n",
              "      <td>45.00</td>\n",
              "      <td>37.00</td>\n",
              "      <td>42.00</td>\n",
              "    </tr>\n",
              "    <tr>\n",
              "      <th>2017</th>\n",
              "      <td>87.00</td>\n",
              "      <td>51.00</td>\n",
              "      <td>39.00</td>\n",
              "      <td>43.00</td>\n",
              "    </tr>\n",
              "    <tr>\n",
              "      <th>2018</th>\n",
              "      <td>83.00</td>\n",
              "      <td>45.00</td>\n",
              "      <td>40.00</td>\n",
              "      <td>28.00</td>\n",
              "    </tr>\n",
              "    <tr>\n",
              "      <th>2019</th>\n",
              "      <td>82.00</td>\n",
              "      <td>35.00</td>\n",
              "      <td>26.00</td>\n",
              "      <td>30.00</td>\n",
              "    </tr>\n",
              "    <tr>\n",
              "      <th>2020</th>\n",
              "      <td>81.00</td>\n",
              "      <td>39.00</td>\n",
              "      <td>34.00</td>\n",
              "      <td>27.00</td>\n",
              "    </tr>\n",
              "  </tbody>\n",
              "</table>\n",
              "</div>"
            ],
            "text/plain": [
              "      margin_gross  margin_ebit  margin_net  margin_fcf\n",
              "year                                                   \n",
              "2016         86.00        45.00       37.00       42.00\n",
              "2017         87.00        51.00       39.00       43.00\n",
              "2018         83.00        45.00       40.00       28.00\n",
              "2019         82.00        35.00       26.00       30.00\n",
              "2020         81.00        39.00       34.00       27.00"
            ]
          },
          "metadata": {},
          "execution_count": 18
        }
      ]
    },
    {
      "cell_type": "code",
      "metadata": {
        "colab": {
          "base_uri": "https://localhost:8080/"
        },
        "id": "QPAjA0vAcVuj",
        "outputId": "f2323a94-4226-4c3d-fb34-fcad84db0372"
      },
      "source": [
        "main_company.fundamentals.df_fundamentals[[\"margin_gross\", \"margin_ebit\", \"margin_net\", \"margin_fcf\"]].plot(figsize=(15, 6), title=main_company.ticker)"
      ],
      "execution_count": null,
      "outputs": [
        {
          "output_type": "execute_result",
          "data": {
            "text/plain": [
              "<matplotlib.axes._subplots.AxesSubplot at 0x7f0d0b994cd0>"
            ]
          },
          "metadata": {},
          "execution_count": 19
        },
        {
          "output_type": "display_data",
          "data": {
            "image/png": "[encoded data removed]",
            "text/plain": [
              "<Figure size 1080x432 with 1 Axes>"
            ]
          },
          "metadata": {
            "needs_background": "light"
          }
        }
      ]
    },
    {
      "cell_type": "code",
      "metadata": {
        "colab": {
          "base_uri": "https://localhost:8080/"
        },
        "id": "wFreN5_07nDn",
        "outputId": "d31739c8-7f78-4e03-93a5-8c9e097e33e9"
      },
      "source": [
        "print(f\"Gross margin: {main_company.fundamentals.get_last_gross_margin()}%\")\n",
        "print(f\"EBIT margin: {main_company.fundamentals.get_last_margin_ebit()}%\")\n",
        "print(f\"NET margin: {main_company.fundamentals.get_last_margin_net()}%\")\n",
        "print(f\"FCF margin: {main_company.fundamentals.get_last_margin_fcf()}%\")"
      ],
      "execution_count": null,
      "outputs": [
        {
          "output_type": "stream",
          "name": "stdout",
          "text": [
            "Gross margin: 81.0%\n",
            "EBIT margin: 39.0%\n",
            "NET margin: 34.0%\n",
            "FCF margin: 27.0%\n"
          ]
        }
      ]
    },
    {
      "cell_type": "markdown",
      "metadata": {
        "id": "pfEs85N9SPkO"
      },
      "source": [
        "# Profitability Analysis\n"
      ]
    },
    {
      "cell_type": "code",
      "metadata": {
        "colab": {
          "base_uri": "https://localhost:8080/"
        },
        "id": "Cj5NI6Q3SWdk",
        "outputId": "263014d7-7435-4611-bc74-5464988a6e66"
      },
      "source": [
        "print(main_company.ticker)\n",
        "df_returns_reversed = main_company.ratios.df_ratios[[\"date\", \"returnOnAssets\", \"returnOnEquity\", \"returnOnCapitalEmployed\"]].iloc[::-1]\n",
        "df_returns_reversed = df_returns_reversed.head(6)\n",
        "df_returns_reversed[\"returnOnAssets\"] = df_returns_reversed[\"returnOnAssets\"] * 100\n",
        "df_returns_reversed[\"returnOnEquity\"] = df_returns_reversed[\"returnOnEquity\"] * 100\n",
        "df_returns_reversed[\"returnOnCapitalEmployed\"] = df_returns_reversed[\"returnOnCapitalEmployed\"] * 100\n",
        "df_returns_reversed.set_index(\"date\", inplace=True)\n",
        "df_returns_reversed.plot(figsize=(15, 6))\n",
        "display(df_returns_reversed)"
      ],
      "execution_count": null,
      "outputs": [
        {
          "output_type": "stream",
          "name": "stdout",
          "text": [
            "FB\n"
          ]
        },
        {
          "output_type": "display_data",
          "data": {
            "text/html": [
              "<div>\n",
              "<style scoped>\n",
              "    .dataframe tbody tr th:only-of-type {\n",
              "        vertical-align: middle;\n",
              "    }\n",
              "\n",
              "    .dataframe tbody tr th {\n",
              "        vertical-align: top;\n",
              "    }\n",
              "\n",
              "    .dataframe thead th {\n",
              "        text-align: right;\n",
              "    }\n",
              "</style>\n",
              "<table border=\"1\" class=\"dataframe\">\n",
              "  <thead>\n",
              "    <tr style=\"text-align: right;\">\n",
              "      <th></th>\n",
              "      <th>returnOnAssets</th>\n",
              "      <th>returnOnEquity</th>\n",
              "      <th>returnOnCapitalEmployed</th>\n",
              "    </tr>\n",
              "    <tr>\n",
              "      <th>date</th>\n",
              "      <th></th>\n",
              "      <th></th>\n",
              "      <th></th>\n",
              "    </tr>\n",
              "  </thead>\n",
              "  <tbody>\n",
              "    <tr>\n",
              "      <th>2012-12-31</th>\n",
              "      <td>0.35</td>\n",
              "      <td>0.45</td>\n",
              "      <td>3.83</td>\n",
              "    </tr>\n",
              "    <tr>\n",
              "      <th>2013-12-31</th>\n",
              "      <td>8.38</td>\n",
              "      <td>9.70</td>\n",
              "      <td>16.70</td>\n",
              "    </tr>\n",
              "    <tr>\n",
              "      <th>2014-12-31</th>\n",
              "      <td>7.32</td>\n",
              "      <td>8.14</td>\n",
              "      <td>12.88</td>\n",
              "    </tr>\n",
              "    <tr>\n",
              "      <th>2015-12-31</th>\n",
              "      <td>7.46</td>\n",
              "      <td>8.34</td>\n",
              "      <td>13.11</td>\n",
              "    </tr>\n",
              "    <tr>\n",
              "      <th>2016-12-31</th>\n",
              "      <td>15.73</td>\n",
              "      <td>17.26</td>\n",
              "      <td>20.02</td>\n",
              "    </tr>\n",
              "    <tr>\n",
              "      <th>2017-12-31</th>\n",
              "      <td>18.85</td>\n",
              "      <td>21.43</td>\n",
              "      <td>25.01</td>\n",
              "    </tr>\n",
              "  </tbody>\n",
              "</table>\n",
              "</div>"
            ],
            "text/plain": [
              "            returnOnAssets  returnOnEquity  returnOnCapitalEmployed\n",
              "date                                                               \n",
              "2012-12-31            0.35            0.45                     3.83\n",
              "2013-12-31            8.38            9.70                    16.70\n",
              "2014-12-31            7.32            8.14                    12.88\n",
              "2015-12-31            7.46            8.34                    13.11\n",
              "2016-12-31           15.73           17.26                    20.02\n",
              "2017-12-31           18.85           21.43                    25.01"
            ]
          },
          "metadata": {}
        },
        {
          "output_type": "display_data",
          "data": {
            "image/png": "[encoded data removed]",
            "text/plain": [
              "<Figure size 1080x432 with 1 Axes>"
            ]
          },
          "metadata": {
            "needs_background": "light"
          }
        }
      ]
    },
    {
      "cell_type": "code",
      "metadata": {
        "colab": {
          "base_uri": "https://localhost:8080/"
        },
        "id": "ndcO6sSfafF8",
        "outputId": "3476617c-edc4-4afb-94b6-b1c91c28005c"
      },
      "source": [
        "df_roic_reversed = main_company.ratios.df_key_metrics.iloc[::-1][[\"date\", \"roic\"]]\n",
        "df_roic_reversed[\"roic\"] = df_roic_reversed[\"roic\"] * 100\n",
        "df_roic_reversed.set_index(\"date\", inplace=True)\n",
        "df_roic_reversed.plot(figsize=(15, 6), title=main_company.ticker)\n",
        "display(df_roic_reversed)\n",
        "plt.show()"
      ],
      "execution_count": null,
      "outputs": [
        {
          "output_type": "display_data",
          "data": {
            "text/html": [
              "<div>\n",
              "<style scoped>\n",
              "    .dataframe tbody tr th:only-of-type {\n",
              "        vertical-align: middle;\n",
              "    }\n",
              "\n",
              "    .dataframe tbody tr th {\n",
              "        vertical-align: top;\n",
              "    }\n",
              "\n",
              "    .dataframe thead th {\n",
              "        text-align: right;\n",
              "    }\n",
              "</style>\n",
              "<table border=\"1\" class=\"dataframe\">\n",
              "  <thead>\n",
              "    <tr style=\"text-align: right;\">\n",
              "      <th></th>\n",
              "      <th>roic</th>\n",
              "    </tr>\n",
              "    <tr>\n",
              "      <th>date</th>\n",
              "      <th></th>\n",
              "    </tr>\n",
              "  </thead>\n",
              "  <tbody>\n",
              "    <tr>\n",
              "      <th>2012-12-31</th>\n",
              "      <td>3.83</td>\n",
              "    </tr>\n",
              "    <tr>\n",
              "      <th>2013-12-31</th>\n",
              "      <td>16.70</td>\n",
              "    </tr>\n",
              "    <tr>\n",
              "      <th>2014-12-31</th>\n",
              "      <td>12.88</td>\n",
              "    </tr>\n",
              "    <tr>\n",
              "      <th>2015-12-31</th>\n",
              "      <td>13.11</td>\n",
              "    </tr>\n",
              "    <tr>\n",
              "      <th>2016-12-31</th>\n",
              "      <td>20.02</td>\n",
              "    </tr>\n",
              "    <tr>\n",
              "      <th>2017-12-31</th>\n",
              "      <td>25.01</td>\n",
              "    </tr>\n",
              "    <tr>\n",
              "      <th>2018-12-31</th>\n",
              "      <td>27.58</td>\n",
              "    </tr>\n",
              "    <tr>\n",
              "      <th>2019-12-31</th>\n",
              "      <td>20.27</td>\n",
              "    </tr>\n",
              "    <tr>\n",
              "      <th>2020-12-31</th>\n",
              "      <td>22.64</td>\n",
              "    </tr>\n",
              "  </tbody>\n",
              "</table>\n",
              "</div>"
            ],
            "text/plain": [
              "            roic\n",
              "date            \n",
              "2012-12-31  3.83\n",
              "2013-12-31 16.70\n",
              "2014-12-31 12.88\n",
              "2015-12-31 13.11\n",
              "2016-12-31 20.02\n",
              "2017-12-31 25.01\n",
              "2018-12-31 27.58\n",
              "2019-12-31 20.27\n",
              "2020-12-31 22.64"
            ]
          },
          "metadata": {}
        },
        {
          "output_type": "display_data",
          "data": {
            "image/png": "[encoded data removed]",
            "text/plain": [
              "<Figure size 1080x432 with 1 Axes>"
            ]
          },
          "metadata": {
            "needs_background": "light"
          }
        }
      ]
    },
    {
      "cell_type": "markdown",
      "metadata": {
        "id": "vwfx4QH9cvUL"
      },
      "source": [
        "# Financial Health Analysis\n"
      ]
    },
    {
      "cell_type": "code",
      "metadata": {
        "colab": {
          "base_uri": "https://localhost:8080/"
        },
        "id": "dS-HYM1ec000",
        "outputId": "1b45045f-fada-417d-e02b-828f41993596"
      },
      "source": [
        "display(main_company.fundamentals.df_fundamentals[[\"shortTermDebt\", \"longTermDebt\", \"totalDebt\", \"cashAndCashEquivalents\"]])"
      ],
      "execution_count": null,
      "outputs": [
        {
          "output_type": "display_data",
          "data": {
            "text/html": [
              "<div>\n",
              "<style scoped>\n",
              "    .dataframe tbody tr th:only-of-type {\n",
              "        vertical-align: middle;\n",
              "    }\n",
              "\n",
              "    .dataframe tbody tr th {\n",
              "        vertical-align: top;\n",
              "    }\n",
              "\n",
              "    .dataframe thead th {\n",
              "        text-align: right;\n",
              "    }\n",
              "</style>\n",
              "<table border=\"1\" class=\"dataframe\">\n",
              "  <thead>\n",
              "    <tr style=\"text-align: right;\">\n",
              "      <th></th>\n",
              "      <th>shortTermDebt</th>\n",
              "      <th>longTermDebt</th>\n",
              "      <th>totalDebt</th>\n",
              "      <th>cashAndCashEquivalents</th>\n",
              "    </tr>\n",
              "    <tr>\n",
              "      <th>year</th>\n",
              "      <th></th>\n",
              "      <th></th>\n",
              "      <th></th>\n",
              "      <th></th>\n",
              "    </tr>\n",
              "  </thead>\n",
              "  <tbody>\n",
              "    <tr>\n",
              "      <th>2016</th>\n",
              "      <td>0.00</td>\n",
              "      <td>0.00</td>\n",
              "      <td>0.00</td>\n",
              "      <td>8903000000</td>\n",
              "    </tr>\n",
              "    <tr>\n",
              "      <th>2017</th>\n",
              "      <td>0.00</td>\n",
              "      <td>0.00</td>\n",
              "      <td>0.00</td>\n",
              "      <td>8079000000</td>\n",
              "    </tr>\n",
              "    <tr>\n",
              "      <th>2018</th>\n",
              "      <td>500000000.00</td>\n",
              "      <td>0.00</td>\n",
              "      <td>500000000.00</td>\n",
              "      <td>10019000000</td>\n",
              "    </tr>\n",
              "    <tr>\n",
              "      <th>2019</th>\n",
              "      <td>1077000000.00</td>\n",
              "      <td>0.00</td>\n",
              "      <td>10601000000.00</td>\n",
              "      <td>19079000000</td>\n",
              "    </tr>\n",
              "    <tr>\n",
              "      <th>2020</th>\n",
              "      <td>1023000000.00</td>\n",
              "      <td>9631000000.00</td>\n",
              "      <td>10654000000.00</td>\n",
              "      <td>17576000000</td>\n",
              "    </tr>\n",
              "  </tbody>\n",
              "</table>\n",
              "</div>"
            ],
            "text/plain": [
              "      shortTermDebt  longTermDebt      totalDebt  cashAndCashEquivalents\n",
              "year                                                                    \n",
              "2016           0.00          0.00           0.00              8903000000\n",
              "2017           0.00          0.00           0.00              8079000000\n",
              "2018   500000000.00          0.00   500000000.00             10019000000\n",
              "2019  1077000000.00          0.00 10601000000.00             19079000000\n",
              "2020  1023000000.00 9631000000.00 10654000000.00             17576000000"
            ]
          },
          "metadata": {}
        }
      ]
    },
    {
      "cell_type": "code",
      "metadata": {
        "colab": {
          "base_uri": "https://localhost:8080/"
        },
        "id": "SmszOcyRermO",
        "outputId": "8d58473b-3e98-4bc1-e49b-1bb74bc3ca65"
      },
      "source": [
        "main_company.fundamentals.df_fundamentals[[\"totalDebt\", \"cashAndCashEquivalents\"]].plot(figsize=(15, 6), title=main_company.ticker)"
      ],
      "execution_count": null,
      "outputs": [
        {
          "output_type": "execute_result",
          "data": {
            "text/plain": [
              "<matplotlib.axes._subplots.AxesSubplot at 0x7f0d0aaa47d0>"
            ]
          },
          "metadata": {},
          "execution_count": 24
        },
        {
          "output_type": "display_data",
          "data": {
            "image/png": "[encoded data removed]",
            "text/plain": [
              "<Figure size 1080x432 with 1 Axes>"
            ]
          },
          "metadata": {
            "needs_background": "light"
          }
        }
      ]
    },
    {
      "cell_type": "markdown",
      "metadata": {
        "id": "qfUn6qW_Sbhx"
      },
      "source": [
        "¿La cobertura de intereses por parte del EBIT = EBIT/Total de intereses a pagar está por encima de 5 veces?"
      ]
    },
    {
      "cell_type": "code",
      "metadata": {
        "colab": {
          "base_uri": "https://localhost:8080/"
        },
        "id": "5Gxx3Eald2Cq",
        "outputId": "29b47906-7cec-4935-c0a8-b1457e2d2694"
      },
      "source": [
        "df_interest_coverage = main_company.ratios.df_ratios[[\"date\", \"interestCoverage\"]].iloc[::-1]\n",
        "df_interest_coverage.set_index(\"date\", inplace=True)\n",
        "display(df_interest_coverage)\n",
        "df_interest_coverage.plot(figsize=(15, 6), title=main_company.ticker)"
      ],
      "execution_count": null,
      "outputs": [
        {
          "output_type": "display_data",
          "data": {
            "text/html": [
              "<div>\n",
              "<style scoped>\n",
              "    .dataframe tbody tr th:only-of-type {\n",
              "        vertical-align: middle;\n",
              "    }\n",
              "\n",
              "    .dataframe tbody tr th {\n",
              "        vertical-align: top;\n",
              "    }\n",
              "\n",
              "    .dataframe thead th {\n",
              "        text-align: right;\n",
              "    }\n",
              "</style>\n",
              "<table border=\"1\" class=\"dataframe\">\n",
              "  <thead>\n",
              "    <tr style=\"text-align: right;\">\n",
              "      <th></th>\n",
              "      <th>interestCoverage</th>\n",
              "    </tr>\n",
              "    <tr>\n",
              "      <th>date</th>\n",
              "      <th></th>\n",
              "    </tr>\n",
              "  </thead>\n",
              "  <tbody>\n",
              "    <tr>\n",
              "      <th>2012-12-31</th>\n",
              "      <td>10.55</td>\n",
              "    </tr>\n",
              "    <tr>\n",
              "      <th>2013-12-31</th>\n",
              "      <td>50.07</td>\n",
              "    </tr>\n",
              "    <tr>\n",
              "      <th>2014-12-31</th>\n",
              "      <td>217.13</td>\n",
              "    </tr>\n",
              "    <tr>\n",
              "      <th>2015-12-31</th>\n",
              "      <td>270.65</td>\n",
              "    </tr>\n",
              "    <tr>\n",
              "      <th>2016-12-31</th>\n",
              "      <td>1242.70</td>\n",
              "    </tr>\n",
              "    <tr>\n",
              "      <th>2017-12-31</th>\n",
              "      <td>3367.17</td>\n",
              "    </tr>\n",
              "    <tr>\n",
              "      <th>2018-12-31</th>\n",
              "      <td>2768.11</td>\n",
              "    </tr>\n",
              "    <tr>\n",
              "      <th>2019-12-31</th>\n",
              "      <td>1199.30</td>\n",
              "    </tr>\n",
              "    <tr>\n",
              "      <th>2020-12-31</th>\n",
              "      <td>nan</td>\n",
              "    </tr>\n",
              "  </tbody>\n",
              "</table>\n",
              "</div>"
            ],
            "text/plain": [
              "            interestCoverage\n",
              "date                        \n",
              "2012-12-31             10.55\n",
              "2013-12-31             50.07\n",
              "2014-12-31            217.13\n",
              "2015-12-31            270.65\n",
              "2016-12-31           1242.70\n",
              "2017-12-31           3367.17\n",
              "2018-12-31           2768.11\n",
              "2019-12-31           1199.30\n",
              "2020-12-31               nan"
            ]
          },
          "metadata": {}
        },
        {
          "output_type": "execute_result",
          "data": {
            "text/plain": [
              "<matplotlib.axes._subplots.AxesSubplot at 0x7f0d0a9d22d0>"
            ]
          },
          "metadata": {},
          "execution_count": 25
        },
        {
          "output_type": "display_data",
          "data": {
            "image/png": "[encoded data removed]",
            "text/plain": [
              "<Figure size 1080x432 with 1 Axes>"
            ]
          },
          "metadata": {
            "needs_background": "light"
          }
        }
      ]
    },
    {
      "cell_type": "markdown",
      "metadata": {
        "id": "TyuLvI7eQ5PD"
      },
      "source": [
        "**CURRENT RATIO should be > 1**"
      ]
    },
    {
      "cell_type": "code",
      "metadata": {
        "colab": {
          "base_uri": "https://localhost:8080/"
        },
        "id": "1CpyTeoQN1Lx",
        "outputId": "908d4af4-4adb-4fa0-e3bd-5938199c9f92"
      },
      "source": [
        "df_current_ratio_reversed = main_company.ratios.df_ratios[[\"date\", \"currentRatio\"]].iloc[::-1]\n",
        "df_current_ratio_reversed.set_index(\"date\", inplace=True)\n",
        "display(df_current_ratio_reversed)\n",
        "df_current_ratio_reversed.plot(figsize=(15, 6), title=main_company.ticker)"
      ],
      "execution_count": null,
      "outputs": [
        {
          "output_type": "display_data",
          "data": {
            "text/html": [
              "<div>\n",
              "<style scoped>\n",
              "    .dataframe tbody tr th:only-of-type {\n",
              "        vertical-align: middle;\n",
              "    }\n",
              "\n",
              "    .dataframe tbody tr th {\n",
              "        vertical-align: top;\n",
              "    }\n",
              "\n",
              "    .dataframe thead th {\n",
              "        text-align: right;\n",
              "    }\n",
              "</style>\n",
              "<table border=\"1\" class=\"dataframe\">\n",
              "  <thead>\n",
              "    <tr style=\"text-align: right;\">\n",
              "      <th></th>\n",
              "      <th>currentRatio</th>\n",
              "    </tr>\n",
              "    <tr>\n",
              "      <th>date</th>\n",
              "      <th></th>\n",
              "    </tr>\n",
              "  </thead>\n",
              "  <tbody>\n",
              "    <tr>\n",
              "      <th>2012-12-31</th>\n",
              "      <td>10.71</td>\n",
              "    </tr>\n",
              "    <tr>\n",
              "      <th>2013-12-31</th>\n",
              "      <td>11.88</td>\n",
              "    </tr>\n",
              "    <tr>\n",
              "      <th>2014-12-31</th>\n",
              "      <td>9.60</td>\n",
              "    </tr>\n",
              "    <tr>\n",
              "      <th>2015-12-31</th>\n",
              "      <td>11.25</td>\n",
              "    </tr>\n",
              "    <tr>\n",
              "      <th>2016-12-31</th>\n",
              "      <td>11.97</td>\n",
              "    </tr>\n",
              "    <tr>\n",
              "      <th>2017-12-31</th>\n",
              "      <td>12.92</td>\n",
              "    </tr>\n",
              "    <tr>\n",
              "      <th>2018-12-31</th>\n",
              "      <td>7.19</td>\n",
              "    </tr>\n",
              "    <tr>\n",
              "      <th>2019-12-31</th>\n",
              "      <td>4.40</td>\n",
              "    </tr>\n",
              "    <tr>\n",
              "      <th>2020-12-31</th>\n",
              "      <td>5.05</td>\n",
              "    </tr>\n",
              "  </tbody>\n",
              "</table>\n",
              "</div>"
            ],
            "text/plain": [
              "            currentRatio\n",
              "date                    \n",
              "2012-12-31         10.71\n",
              "2013-12-31         11.88\n",
              "2014-12-31          9.60\n",
              "2015-12-31         11.25\n",
              "2016-12-31         11.97\n",
              "2017-12-31         12.92\n",
              "2018-12-31          7.19\n",
              "2019-12-31          4.40\n",
              "2020-12-31          5.05"
            ]
          },
          "metadata": {}
        },
        {
          "output_type": "execute_result",
          "data": {
            "text/plain": [
              "<matplotlib.axes._subplots.AxesSubplot at 0x7f0d0ab87c10>"
            ]
          },
          "metadata": {},
          "execution_count": 26
        },
        {
          "output_type": "display_data",
          "data": {
            "image/png": "[encoded data removed]",
            "text/plain": [
              "<Figure size 1080x432 with 1 Axes>"
            ]
          },
          "metadata": {
            "needs_background": "light"
          }
        }
      ]
    }
  ]
}